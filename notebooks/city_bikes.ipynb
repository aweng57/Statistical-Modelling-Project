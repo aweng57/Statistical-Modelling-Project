{
 "cells": [
  {
   "cell_type": "markdown",
   "metadata": {},
   "source": [
    "# CityBikes"
   ]
  },
  {
   "cell_type": "code",
   "execution_count": 1,
   "metadata": {},
   "outputs": [],
   "source": [
    "import pandas as pd\n",
    "import os\n",
    "import json\n",
    "import requests as re"
   ]
  },
  {
   "cell_type": "markdown",
   "metadata": {},
   "source": [
    "Send a request to CityBikes for the city of your choice. "
   ]
  },
  {
   "cell_type": "code",
   "execution_count": null,
   "metadata": {},
   "outputs": [],
   "source": [
    "import requests\n",
    "import json\n",
    "\n",
    "url = \"http://api.citybik.es/v2/networks/santander-cycles\"\n",
    "\n",
    "params = {\n",
    "    'city': 'london',\n",
    "    'country': 'Great Britain'\n",
    "}\n",
    "\n",
    "response = requests.get(url, params=params)\n",
    "data = response.json()\n",
    "data"
   ]
  },
  {
   "cell_type": "markdown",
   "metadata": {},
   "source": [
    "Parse through the response to get the details you want for the bike stations in that city (latitude, longitude, number of bikes). "
   ]
  },
  {
   "cell_type": "code",
   "execution_count": null,
   "metadata": {},
   "outputs": [],
   "source": [
    "data = response.json()\n",
    "stations = data['network']['stations']\n",
    "station_list = []\n",
    "for station in stations:\n",
    "    name = station['name']\n",
    "    latitude = (station['latitude'])\n",
    "    longitude = (station['longitude'])\n",
    "    location = f\"{latitude},{longitude}\"\n",
    "    bikes = station['free_bikes']\n",
    "    station_list.append({'name':name, 'coordinates':location, 'bikes':bikes})\n",
    "    \n",
    "station_list"
   ]
  },
  {
   "cell_type": "markdown",
   "metadata": {},
   "source": [
    "Put your parsed results into a DataFrame."
   ]
  },
  {
   "cell_type": "code",
   "execution_count": 16,
   "metadata": {},
   "outputs": [
    {
     "data": {
      "text/html": [
       "<div>\n",
       "<style scoped>\n",
       "    .dataframe tbody tr th:only-of-type {\n",
       "        vertical-align: middle;\n",
       "    }\n",
       "\n",
       "    .dataframe tbody tr th {\n",
       "        vertical-align: top;\n",
       "    }\n",
       "\n",
       "    .dataframe thead th {\n",
       "        text-align: right;\n",
       "    }\n",
       "</style>\n",
       "<table border=\"1\" class=\"dataframe\">\n",
       "  <thead>\n",
       "    <tr style=\"text-align: right;\">\n",
       "      <th></th>\n",
       "      <th>name</th>\n",
       "      <th>coordinates</th>\n",
       "      <th>bikes</th>\n",
       "    </tr>\n",
       "  </thead>\n",
       "  <tbody>\n",
       "    <tr>\n",
       "      <th>0</th>\n",
       "      <td>001023 - River Street , Clerkenwell</td>\n",
       "      <td>51.52916347,-0.109970527</td>\n",
       "      <td>12</td>\n",
       "    </tr>\n",
       "    <tr>\n",
       "      <th>1</th>\n",
       "      <td>001018 - Phillimore Gardens, Kensington</td>\n",
       "      <td>51.49960695,-0.197574246</td>\n",
       "      <td>31</td>\n",
       "    </tr>\n",
       "    <tr>\n",
       "      <th>2</th>\n",
       "      <td>001012 - Christopher Street, Liverpool Street</td>\n",
       "      <td>51.52128377,-0.084605692</td>\n",
       "      <td>4</td>\n",
       "    </tr>\n",
       "    <tr>\n",
       "      <th>3</th>\n",
       "      <td>001024 - Park Street, Bankside</td>\n",
       "      <td>51.50597426,-0.092754157</td>\n",
       "      <td>10</td>\n",
       "    </tr>\n",
       "    <tr>\n",
       "      <th>4</th>\n",
       "      <td>001022 - Brunswick Square, Bloomsbury</td>\n",
       "      <td>51.52395143,-0.122502346</td>\n",
       "      <td>16</td>\n",
       "    </tr>\n",
       "    <tr>\n",
       "      <th>...</th>\n",
       "      <td>...</td>\n",
       "      <td>...</td>\n",
       "      <td>...</td>\n",
       "    </tr>\n",
       "    <tr>\n",
       "      <th>794</th>\n",
       "      <td>200008 - Portman Square, Marylebone</td>\n",
       "      <td>51.516204,-0.155525</td>\n",
       "      <td>3</td>\n",
       "    </tr>\n",
       "    <tr>\n",
       "      <th>795</th>\n",
       "      <td>001225 - George Street, Marylebone</td>\n",
       "      <td>51.517703,-0.154106</td>\n",
       "      <td>25</td>\n",
       "    </tr>\n",
       "    <tr>\n",
       "      <th>796</th>\n",
       "      <td>000973 - Bethnal Green Road, Shoreditch</td>\n",
       "      <td>51.52364804,-0.074754872</td>\n",
       "      <td>20</td>\n",
       "    </tr>\n",
       "    <tr>\n",
       "      <th>797</th>\n",
       "      <td>002677 - Natural History Museum, South Kensington</td>\n",
       "      <td>51.49559291,-0.179077626</td>\n",
       "      <td>9</td>\n",
       "    </tr>\n",
       "    <tr>\n",
       "      <th>798</th>\n",
       "      <td>001199 - The Tennis Courts, The Regent's Park</td>\n",
       "      <td>51.52536703,-0.153463612</td>\n",
       "      <td>1</td>\n",
       "    </tr>\n",
       "  </tbody>\n",
       "</table>\n",
       "<p>799 rows × 3 columns</p>\n",
       "</div>"
      ],
      "text/plain": [
       "                                                  name  \\\n",
       "0                  001023 - River Street , Clerkenwell   \n",
       "1              001018 - Phillimore Gardens, Kensington   \n",
       "2        001012 - Christopher Street, Liverpool Street   \n",
       "3                       001024 - Park Street, Bankside   \n",
       "4                001022 - Brunswick Square, Bloomsbury   \n",
       "..                                                 ...   \n",
       "794                200008 - Portman Square, Marylebone   \n",
       "795                 001225 - George Street, Marylebone   \n",
       "796            000973 - Bethnal Green Road, Shoreditch   \n",
       "797  002677 - Natural History Museum, South Kensington   \n",
       "798      001199 - The Tennis Courts, The Regent's Park   \n",
       "\n",
       "                  coordinates  bikes  \n",
       "0    51.52916347,-0.109970527     12  \n",
       "1    51.49960695,-0.197574246     31  \n",
       "2    51.52128377,-0.084605692      4  \n",
       "3    51.50597426,-0.092754157     10  \n",
       "4    51.52395143,-0.122502346     16  \n",
       "..                        ...    ...  \n",
       "794       51.516204,-0.155525      3  \n",
       "795       51.517703,-0.154106     25  \n",
       "796  51.52364804,-0.074754872     20  \n",
       "797  51.49559291,-0.179077626      9  \n",
       "798  51.52536703,-0.153463612      1  \n",
       "\n",
       "[799 rows x 3 columns]"
      ]
     },
     "execution_count": 16,
     "metadata": {},
     "output_type": "execute_result"
    }
   ],
   "source": [
    "df_all_stations = pd.DataFrame(station_list)\n",
    "df_all_stations"
   ]
  },
  {
   "cell_type": "code",
   "execution_count": 17,
   "metadata": {},
   "outputs": [
    {
     "data": {
      "text/plain": [
       "799"
      ]
     },
     "execution_count": 17,
     "metadata": {},
     "output_type": "execute_result"
    }
   ],
   "source": [
    "df_all_stations['name'].nunique() #check for duplicates"
   ]
  },
  {
   "cell_type": "code",
   "execution_count": null,
   "metadata": {},
   "outputs": [],
   "source": [
    "coordinates = []\n",
    "for x in stations:\n",
    "    latitude = x['latitude']\n",
    "    longitude = x['longitude']\n",
    "    coordinates.append({'latitude' : latitude, 'longitude' : longitude})\n",
    "coordinates"
   ]
  },
  {
   "cell_type": "code",
   "execution_count": 19,
   "metadata": {},
   "outputs": [],
   "source": [
    "df_all_stations.to_json('citybike', orient = 'records')"
   ]
  }
 ],
 "metadata": {
  "kernelspec": {
   "display_name": "base",
   "language": "python",
   "name": "python3"
  },
  "language_info": {
   "codemirror_mode": {
    "name": "ipython",
    "version": 3
   },
   "file_extension": ".py",
   "mimetype": "text/x-python",
   "name": "python",
   "nbconvert_exporter": "python",
   "pygments_lexer": "ipython3",
   "version": "3.9.13"
  },
  "vscode": {
   "interpreter": {
    "hash": "66cc090467d48887d5af50ab86f88e6c6b88855e12fb41872f5efcca02db345d"
   }
  }
 },
 "nbformat": 4,
 "nbformat_minor": 4
}
